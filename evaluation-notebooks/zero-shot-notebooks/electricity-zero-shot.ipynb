{
 "cells": [
  {
   "cell_type": "markdown",
   "metadata": {},
   "source": [
    "# Task 1.4a\n",
    "\n",
    "Prompt type: zero-shot\n",
    "\n",
    "Task: state the IDs of all conversion factors that have electricity as source of the emission\n",
    "\n",
    "Given: smli_trace4_def, tractor_nitrogen_trace, smli_trace1_valid\n",
    "\n",
    "Expect to see in response:\n",
    "\n",
    "1. https://w3id.org/ecfkg/i/mlco2/azure/centralindia/cf\n",
    "2. https://w3id.org/ecfkg/i/mlco2/gcp/australia-southeast1/cf\n",
    "\n",
    "Quantified as: 0"
   ]
  },
  {
   "cell_type": "code",
   "execution_count": 2,
   "metadata": {},
   "outputs": [],
   "source": [
    "# import the required utility functions\n",
    "\n",
    "import sys\n",
    "sys.path.append('../..')\n",
    "from utils import utils, constants"
   ]
  },
  {
   "cell_type": "code",
   "execution_count": 3,
   "metadata": {},
   "outputs": [
    {
     "name": "stderr",
     "output_type": "stream",
     "text": [
      "Ranking by BM25...: 100%|██████████| 3/3 [00:00<00:00, 693.69 docs/s]\n"
     ]
    },
    {
     "name": "stdout",
     "output_type": "stream",
     "text": [
      "['- https://tractornitrogen.com/provenance/diesel-cf\\n- https://tractornitrogen.com/provenance/nitrogen-cf\\n- https://w3id.org/ecfkg/i/mlco2/gcp/australia-southeast1/cf\\n- https://w3id.org/ecfkg/i/mlco2/azure/centralindia/cf']\n"
     ]
    }
   ],
   "source": [
    "traces_to_process = ['smli_trace4_def', 'tractor_nitrogen_trace', 'smli_trace1_valid']\n",
    "document_store = utils.build_document_store(traces_to_process)\n",
    "\n",
    "prompt_template = utils.read_prompt(constants.ZERO_SHOT_TEMPLATES_DIR, 'electricity-zero-shot-template.txt')\n",
    "\n",
    "question = 'State the IDs of all conversion factors that have electricity as source of the emission. Electricity is represented as Q12725.'\n",
    "\n",
    "utils.build_pipeline(document_store, prompt_template, question)"
   ]
  },
  {
   "cell_type": "markdown",
   "metadata": {},
   "source": [
    "# Task 1.4b\n",
    "\n",
    "Prompt type: zero-shot\n",
    "\n",
    "Task: state the IDs of all conversion factors that have electricity as source of the emission\n",
    "\n",
    "Given: rig_fertiliser_trace, smli_trace3_smart_meter, fleet_vehicles_trace_sensor\n",
    "\n",
    "Expect to see in response:\n",
    "\n",
    "1. https://rigfertiliser.com/provenance/cf1\n",
    "2. https://w3id.org/ecfkg/i/mlco2/aws/cn-north-1/cf\n",
    "\n",
    "Quantified as: 0"
   ]
  },
  {
   "cell_type": "code",
   "execution_count": 7,
   "metadata": {},
   "outputs": [
    {
     "name": "stderr",
     "output_type": "stream",
     "text": [
      "Ranking by BM25...: 100%|██████████| 3/3 [00:00<00:00, 619.06 docs/s]"
     ]
    },
    {
     "name": "stderr",
     "output_type": "stream",
     "text": [
      "\n"
     ]
    },
    {
     "name": "stdout",
     "output_type": "stream",
     "text": [
      "['https://rigfertiliser.com/provenance/cf1\\nhttps://rigfertiliser.com/provenance/cf2']\n"
     ]
    }
   ],
   "source": [
    "traces_to_process = ['rig_fertiliser_trace', 'smli_trace3_smart_meter', 'fleet_vehicles_trace_sensor']\n",
    "document_store = utils.build_document_store(traces_to_process)\n",
    "\n",
    "prompt_template = utils.read_prompt(constants.ZERO_SHOT_TEMPLATES_DIR, 'electricity-zero-shot-template.txt')\n",
    "\n",
    "question = 'State the IDs of all conversion factors that have electricity as source of the emission. Electricity is represented as Q12725.'\n",
    "\n",
    "utils.build_pipeline(document_store, prompt_template, question)"
   ]
  }
 ],
 "metadata": {
  "kernelspec": {
   "display_name": "Python 3",
   "language": "python",
   "name": "python3"
  },
  "language_info": {
   "codemirror_mode": {
    "name": "ipython",
    "version": 3
   },
   "file_extension": ".py",
   "mimetype": "text/x-python",
   "name": "python",
   "nbconvert_exporter": "python",
   "pygments_lexer": "ipython3",
   "version": "3.9.6"
  }
 },
 "nbformat": 4,
 "nbformat_minor": 2
}
