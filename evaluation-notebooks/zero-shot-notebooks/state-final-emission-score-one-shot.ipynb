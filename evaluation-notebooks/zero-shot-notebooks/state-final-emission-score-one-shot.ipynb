{
 "cells": [
  {
   "cell_type": "code",
   "execution_count": 1,
   "metadata": {},
   "outputs": [
    {
     "name": "stderr",
     "output_type": "stream",
     "text": [
      "/Users/maximlishchenko/Library/Python/3.9/lib/python/site-packages/urllib3/__init__.py:35: NotOpenSSLWarning: urllib3 v2 only supports OpenSSL 1.1.1+, currently the 'ssl' module is compiled with 'LibreSSL 2.8.3'. See: https://github.com/urllib3/urllib3/issues/3020\n",
      "  warnings.warn(\n",
      "/Users/maximlishchenko/Library/Python/3.9/lib/python/site-packages/tqdm/auto.py:21: TqdmWarning: IProgress not found. Please update jupyter and ipywidgets. See https://ipywidgets.readthedocs.io/en/stable/user_install.html\n",
      "  from .autonotebook import tqdm as notebook_tqdm\n",
      "Ranking by BM25...: 100%|██████████| 1/1 [00:00<00:00, 996.98 docs/s]\n"
     ]
    },
    {
     "name": "stdout",
     "output_type": "stream",
     "text": [
      "['The final emission score is 1.52.']\n"
     ]
    }
   ],
   "source": [
    "import os\n",
    "from haystack import Document\n",
    "from haystack.document_stores.in_memory import InMemoryDocumentStore\n",
    "import sys\n",
    "sys.path.append('../..')\n",
    "from utils import utils, constants\n",
    "\n",
    "smli_trace1_valid = open(constants.DATA_DIR + 'smli_trace1_valid.json', 'r')\n",
    "smli_trace1_valid_content = smli_trace1_valid.read()\n",
    "smli_trace1_valid.close()\n",
    "\n",
    "document_store = InMemoryDocumentStore()\n",
    "document_store.write_documents([\n",
    "    Document(content=smli_trace1_valid_content)\n",
    "])\n",
    "\n",
    "prompt_file = open('../../prompt-templates/zero-shot-templates/state-final-emission-score-one-shot-template.txt', 'r')\n",
    "prompt_template = prompt_file.read()\n",
    "prompt_file.close()\n",
    "\n",
    "question = 'What is the final emission score?'\n",
    "\n",
    "utils.build_pipeline(document_store, prompt_template, question)"
   ]
  }
 ],
 "metadata": {
  "kernelspec": {
   "display_name": "Python 3",
   "language": "python",
   "name": "python3"
  },
  "language_info": {
   "codemirror_mode": {
    "name": "ipython",
    "version": 3
   },
   "file_extension": ".py",
   "mimetype": "text/x-python",
   "name": "python",
   "nbconvert_exporter": "python",
   "pygments_lexer": "ipython3",
   "version": "3.9.6"
  }
 },
 "nbformat": 4,
 "nbformat_minor": 2
}
