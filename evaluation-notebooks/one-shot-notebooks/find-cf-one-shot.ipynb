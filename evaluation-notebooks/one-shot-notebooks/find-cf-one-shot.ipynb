{
 "cells": [
  {
   "cell_type": "markdown",
   "metadata": {},
   "source": [
    "# Task 2.3a\n",
    "\n",
    "Prompt type: one-shot\n",
    "\n",
    "Task: state the IDs of all conversion factors of scope 2 present in the traces\n",
    "\n",
    "Given as example: smli_trace1_valid, fleet_vehicles_trace_sensor\n",
    "\n",
    "Given as task: water_trace_valid, calcium_chloride_trace_valid\n",
    "\n",
    "Expect to see in response:\n",
    "\n",
    "1. https://cacl2.com/provenance/cf\n",
    "\n",
    "Quantified as: 1"
   ]
  },
  {
   "cell_type": "code",
   "execution_count": 2,
   "metadata": {},
   "outputs": [],
   "source": [
    "# import the required utility functions\n",
    "\n",
    "import sys\n",
    "sys.path.append('../..')\n",
    "from utils import utils, constants"
   ]
  },
  {
   "cell_type": "code",
   "execution_count": 20,
   "metadata": {},
   "outputs": [
    {
     "name": "stderr",
     "output_type": "stream",
     "text": [
      "Ranking by BM25...: 100%|██████████| 2/2 [00:00<00:00, 1036.27 docs/s]\n"
     ]
    },
    {
     "name": "stdout",
     "output_type": "stream",
     "text": [
      "['https://cacl2.com/provenance/cf']\n"
     ]
    }
   ],
   "source": [
    "traces_to_process = ['water_trace_valid', 'calcium_chloride_trace_valid']\n",
    "document_store = utils.build_document_store(traces_to_process)\n",
    "\n",
    "prompt_template = utils.read_prompt(constants.ONE_SHOT_TEMPLATES_DIR, 'find-cf-one-shot-template.txt')\n",
    "\n",
    "question = 'State the IDs of all conversion factors of scope 2 present in the traces. Do not include conversion factors from the example.'\n",
    "\n",
    "utils.build_pipeline(document_store, prompt_template, question)"
   ]
  },
  {
   "cell_type": "markdown",
   "metadata": {},
   "source": [
    "# Task 2.3b\n",
    "\n",
    "Prompt type: one-shot\n",
    "\n",
    "Task: state the IDs of all conversion factors of scope 2 present in the traces\n",
    "\n",
    "Given as example: smli_trace1_valid, fleet_vehicles_trace_sensor\n",
    "\n",
    "Given as task: tractor_nitrogen_trace, fleet_vehicles_trace_fuel_price\n",
    "\n",
    "Expect to see in response:\n",
    "\n",
    "1. https://tractornitrogen.com/provenance/nitrogen-cf\n",
    "\n",
    "Quantified as: 0"
   ]
  },
  {
   "cell_type": "code",
   "execution_count": 23,
   "metadata": {},
   "outputs": [
    {
     "name": "stderr",
     "output_type": "stream",
     "text": [
      "Ranking by BM25...:   0%|          | 0/2 [00:00<?, ? docs/s]"
     ]
    },
    {
     "name": "stderr",
     "output_type": "stream",
     "text": [
      "Ranking by BM25...: 100%|██████████| 2/2 [00:00<00:00, 331.34 docs/s]\n"
     ]
    },
    {
     "name": "stdout",
     "output_type": "stream",
     "text": [
      "['https://tractornitrogen.com/provenance/nitrogen-cf\\nhttps://tractornitrogen.com/provenance/diesel-cf']\n"
     ]
    }
   ],
   "source": [
    "traces_to_process = ['tractor_nitrogen_trace', 'fleet_vehicles_trace_fuel_price']\n",
    "document_store = utils.build_document_store(traces_to_process)\n",
    "\n",
    "prompt_template = utils.read_prompt(constants.ONE_SHOT_TEMPLATES_DIR, 'find-cf-one-shot-template.txt')\n",
    "\n",
    "question = 'State the IDs of all conversion factors of scope 2 present in the traces. Do not include conversion factors from the example.'\n",
    "\n",
    "utils.build_pipeline(document_store, prompt_template, question)"
   ]
  },
  {
   "cell_type": "markdown",
   "metadata": {},
   "source": [
    "# Task 2.3c\n",
    "\n",
    "Prompt type: one-shot\n",
    "\n",
    "Task: state the IDs of all conversion factors of scope 2 present in the traces\n",
    "\n",
    "Given as example: smli_trace1_valid, fleet_vehicles_trace_sensor\n",
    "\n",
    "Given as task: pesticides_trace_valid, water_trace_valid\n",
    "\n",
    "Expect to see in response:\n",
    "\n",
    "1. No conversion factors of scope 2 were found\n",
    "\n",
    "Quantified as: 0"
   ]
  },
  {
   "cell_type": "code",
   "execution_count": 24,
   "metadata": {},
   "outputs": [
    {
     "name": "stderr",
     "output_type": "stream",
     "text": [
      "Ranking by BM25...: 100%|██████████| 2/2 [00:00<00:00, 860.19 docs/s]\n"
     ]
    },
    {
     "name": "stdout",
     "output_type": "stream",
     "text": [
      "['https://water.com/provenance/cf']\n"
     ]
    }
   ],
   "source": [
    "traces_to_process = ['pesticides_trace_valid', 'water_trace_valid']\n",
    "document_store = utils.build_document_store(traces_to_process)\n",
    "\n",
    "prompt_template = utils.read_prompt(constants.ONE_SHOT_TEMPLATES_DIR, 'find-cf-one-shot-template.txt')\n",
    "\n",
    "question = 'State the IDs of all conversion factors of scope 2 present in the traces. Do not include conversion factors from the example.'\n",
    "\n",
    "utils.build_pipeline(document_store, prompt_template, question)"
   ]
  }
 ],
 "metadata": {
  "kernelspec": {
   "display_name": "Python 3",
   "language": "python",
   "name": "python3"
  },
  "language_info": {
   "codemirror_mode": {
    "name": "ipython",
    "version": 3
   },
   "file_extension": ".py",
   "mimetype": "text/x-python",
   "name": "python",
   "nbconvert_exporter": "python",
   "pygments_lexer": "ipython3",
   "version": "3.9.6"
  }
 },
 "nbformat": 4,
 "nbformat_minor": 2
}
