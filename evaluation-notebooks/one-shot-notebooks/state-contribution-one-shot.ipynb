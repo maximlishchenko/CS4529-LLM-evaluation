{
 "cells": [
  {
   "cell_type": "markdown",
   "metadata": {},
   "source": [
    "# Task 2.2a\n",
    "\n",
    "Prompt type: one-shot\n",
    "\n",
    "Task: state which emission generation activity contributed most to the final emission score\n",
    "\n",
    "Given as example: tractor_nitrogen_trace\n",
    "\n",
    "Given as task: rig_fertiliser_trace\n",
    "\n",
    "Expect to see in response:\n",
    "\n",
    "One of the following:\n",
    "1. https://rigfertiliser.com/provenance/EmissionGenerationActivity/ega2\n",
    "2. ega2\n",
    "3. Fertiliser mixture use by the rig\n",
    "\n",
    "Quantified as: 0"
   ]
  },
  {
   "cell_type": "code",
   "execution_count": 2,
   "metadata": {},
   "outputs": [],
   "source": [
    "# import the required utility functions\n",
    "\n",
    "import sys\n",
    "sys.path.append('../..')\n",
    "from utils import utils, constants"
   ]
  },
  {
   "cell_type": "code",
   "execution_count": 3,
   "metadata": {},
   "outputs": [
    {
     "name": "stderr",
     "output_type": "stream",
     "text": [
      "Ranking by BM25...: 100%|██████████| 1/1 [00:00<00:00, 402.56 docs/s]\n"
     ]
    },
    {
     "name": "stdout",
     "output_type": "stream",
     "text": [
      "['https://rigfertiliser.com/provenance/EmissionGenerationActivity/ega1']\n"
     ]
    }
   ],
   "source": [
    "traces_to_process = ['rig_fertiliser_trace']\n",
    "document_store = utils.build_document_store(traces_to_process)\n",
    "\n",
    "prompt_template = utils.read_prompt(constants.ONE_SHOT_TEMPLATES_DIR, 'state-contribution-one-shot-template.txt')\n",
    "\n",
    "question = 'Which emission generation activity contributed most to the final emission score?'\n",
    "\n",
    "utils.build_pipeline(document_store, prompt_template, question)"
   ]
  }
 ],
 "metadata": {
  "kernelspec": {
   "display_name": "Python 3",
   "language": "python",
   "name": "python3"
  },
  "language_info": {
   "codemirror_mode": {
    "name": "ipython",
    "version": 3
   },
   "file_extension": ".py",
   "mimetype": "text/x-python",
   "name": "python",
   "nbconvert_exporter": "python",
   "pygments_lexer": "ipython3",
   "version": "3.9.6"
  }
 },
 "nbformat": 4,
 "nbformat_minor": 2
}
