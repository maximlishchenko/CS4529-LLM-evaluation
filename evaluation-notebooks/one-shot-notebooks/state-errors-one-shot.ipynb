{
 "cells": [
  {
   "cell_type": "markdown",
   "metadata": {},
   "source": [
    "# Task 2.5a\n",
    "\n",
    "Prompt type: one-shot\n",
    "\n",
    "Task: Given a ruleset in SHACL and a provenance trace, state the error messages that would appear if the ruleset was applied to the provenance trace\n",
    "\n",
    "Given as example: smli_trace3_invalid_sosa_cardinality\n",
    "\n",
    "Given as task: calcium_chloride_trace_invalid_cf_invalid_score\n",
    "\n",
    "Expect to see in response:\n",
    "1. An emission conversion factor's value is negative\n",
    "2. The units of the emission score are not compatible with the conversion factor's target units\n",
    "\n",
    "Quantified as: 0"
   ]
  },
  {
   "cell_type": "code",
   "execution_count": 2,
   "metadata": {},
   "outputs": [],
   "source": [
    "# import the required utility functions\n",
    "\n",
    "import sys\n",
    "sys.path.append('../..')\n",
    "from utils import utils, constants"
   ]
  },
  {
   "cell_type": "code",
   "execution_count": 5,
   "metadata": {},
   "outputs": [
    {
     "name": "stderr",
     "output_type": "stream",
     "text": [
      "Ranking by BM25...: 100%|██████████| 1/1 [00:00<00:00, 928.56 docs/s]"
     ]
    },
    {
     "name": "stderr",
     "output_type": "stream",
     "text": [
      "\n"
     ]
    },
    {
     "name": "stdout",
     "output_type": "stream",
     "text": [
      "['1) An emission generation activity is not linked to exactly one sosa:Observation\\n2) An observation does not have any results\\n3) An observation is not made by a single sensor\\n4) An observation does not have exactly one feature of interest\\n5) The feature of interest is not of type sosa:FeatureOfInterest\\n6) An observation is not linked to a thing of type peco:EmissionGenerationActivity\\n7) An emission conversion factor used in the calculation is out of date']\n"
     ]
    }
   ],
   "source": [
    "traces_to_process = ['calcium_chloride_trace_invalid_cf_invalid_score']\n",
    "document_store = utils.build_document_store(traces_to_process)\n",
    "\n",
    "prompt_template = utils.read_prompt(constants.ONE_SHOT_TEMPLATES_DIR, 'state-errors-one-shot-template.txt')\n",
    "\n",
    "question = 'State the error messages that would appear if the ruleset was applied to the provenance trace. Do not state errors from the example provenance trace.'\n",
    "\n",
    "utils.build_pipeline(document_store, prompt_template, question)"
   ]
  },
  {
   "cell_type": "markdown",
   "metadata": {},
   "source": [
    "# Task 2.5b\n",
    "\n",
    "Prompt type: one-shot\n",
    "\n",
    "Task: Given a ruleset in SHACL and a provenance trace, state the error messages that would appear if the ruleset was applied to the provenance trace\n",
    "\n",
    "Given as example: smli_trace3_invalid_sosa_cardinality\n",
    "\n",
    "Given as task: smli_trace3_invalid_cf\n",
    "\n",
    "Expect to see in response:\n",
    "1. An emission conversion factor has more than one source unit\n",
    "2. An emission conversion factor's source units are not of type qudt:Unit\n",
    "3. An emission calculation activity that involved a conversion factor used an entity with units different from that CF units\n",
    "4. An emission conversion factor used in the calculation is out of date\n",
    "\n",
    "Quantified as: 0"
   ]
  },
  {
   "cell_type": "code",
   "execution_count": 7,
   "metadata": {},
   "outputs": [
    {
     "name": "stderr",
     "output_type": "stream",
     "text": [
      "Ranking by BM25...: 100%|██████████| 1/1 [00:00<00:00, 983.42 docs/s]"
     ]
    },
    {
     "name": "stderr",
     "output_type": "stream",
     "text": [
      "\n"
     ]
    },
    {
     "name": "stdout",
     "output_type": "stream",
     "text": [
      "['1) An emission generation activity is not linked to exactly one sosa:Observation\\n2) An observation does not have any results\\n3) An observation is not made by a single sensor\\n4) An observation does not have exactly one feature of interest\\n5) The feature of interest is not of type sosa:FeatureOfInterest\\n6) An observation is not linked to a thing of type peco:EmissionGenerationActivity\\n7) An emission conversion factor used in the calculation is out of date']\n"
     ]
    }
   ],
   "source": [
    "traces_to_process = ['smli_trace3_invalid_cf']\n",
    "document_store = utils.build_document_store(traces_to_process)\n",
    "\n",
    "prompt_template = utils.read_prompt(constants.ONE_SHOT_TEMPLATES_DIR, 'state-errors-one-shot-template.txt')\n",
    "\n",
    "question = 'State the error messages that would appear if the ruleset was applied to the provenance trace. Do not state errors from the example provenance trace.'\n",
    "\n",
    "utils.build_pipeline(document_store, prompt_template, question)"
   ]
  }
 ],
 "metadata": {
  "kernelspec": {
   "display_name": "Python 3",
   "language": "python",
   "name": "python3"
  },
  "language_info": {
   "codemirror_mode": {
    "name": "ipython",
    "version": 3
   },
   "file_extension": ".py",
   "mimetype": "text/x-python",
   "name": "python",
   "nbconvert_exporter": "python",
   "pygments_lexer": "ipython3",
   "version": "3.9.6"
  }
 },
 "nbformat": 4,
 "nbformat_minor": 2
}
