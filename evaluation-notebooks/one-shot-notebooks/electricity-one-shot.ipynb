{
 "cells": [
  {
   "cell_type": "markdown",
   "metadata": {},
   "source": [
    "# Task 2.4a\n",
    "\n",
    "Prompt type: one-shot\n",
    "\n",
    "Task: state the IDs of all conversion factors that have electricity as source of the emission\n",
    "\n",
    "Given as example: smli_trace1_valid, water_trace_valid\n",
    "\n",
    "Given as task: smli_trace3_smart_meter, tractor_nitrogen_trace\n",
    "\n",
    "Expect to see in response:\n",
    "\n",
    "1. https://w3id.org/ecfkg/i/mlco2/aws/cn-north-1/cf\n",
    "\n",
    "Quantified as: 0"
   ]
  },
  {
   "cell_type": "code",
   "execution_count": 2,
   "metadata": {},
   "outputs": [],
   "source": [
    "# import the required utility functions\n",
    "\n",
    "import sys\n",
    "sys.path.append('../..')\n",
    "from utils import utils, constants"
   ]
  },
  {
   "cell_type": "code",
   "execution_count": 10,
   "metadata": {},
   "outputs": [
    {
     "name": "stderr",
     "output_type": "stream",
     "text": [
      "Ranking by BM25...: 100%|██████████| 2/2 [00:00<00:00, 885.43 docs/s]"
     ]
    },
    {
     "name": "stderr",
     "output_type": "stream",
     "text": [
      "\n"
     ]
    },
    {
     "name": "stdout",
     "output_type": "stream",
     "text": [
      "['https://tractornitrogen.com/provenance/nitrogen-cf']\n"
     ]
    }
   ],
   "source": [
    "traces_to_process = ['smli_trace3_smart_meter', 'tractor_nitrogen_trace']\n",
    "document_store = utils.build_document_store(traces_to_process)\n",
    "\n",
    "prompt_template = utils.read_prompt(constants.ONE_SHOT_TEMPLATES_DIR, 'electricity-one-shot-template.txt')\n",
    "\n",
    "question = 'State the IDs of all conversion factors that have electricity as source of the emission. Electricity is represented as Q12725. Do not include conversion factors from the example.'\n",
    "\n",
    "utils.build_pipeline(document_store, prompt_template, question)"
   ]
  },
  {
   "cell_type": "markdown",
   "metadata": {},
   "source": [
    "# Task 2.4b\n",
    "\n",
    "Prompt type: one-shot\n",
    "\n",
    "Task: state the IDs of all conversion factors that have electricity as source of the emission\n",
    "\n",
    "Given as example: smli_trace1_valid, water_trace_valid\n",
    "\n",
    "Given as task: rig_fertiliser_trace, fleet_vehicles_trace_sensor\n",
    "\n",
    "Expect to see in response:\n",
    "\n",
    "1. https://rigfertiliser.com/provenance/cf1\n",
    "\n",
    "Quantified as: 0"
   ]
  },
  {
   "cell_type": "code",
   "execution_count": 11,
   "metadata": {},
   "outputs": [
    {
     "name": "stderr",
     "output_type": "stream",
     "text": [
      "Ranking by BM25...: 100%|██████████| 2/2 [00:00<00:00, 323.20 docs/s]\n"
     ]
    },
    {
     "name": "stdout",
     "output_type": "stream",
     "text": [
      "['- https://rigfertiliser.com/provenance/cf1\\n- https://rigfertiliser.com/provenance/cf2']\n"
     ]
    }
   ],
   "source": [
    "traces_to_process = ['rig_fertiliser_trace', 'fleet_vehicles_trace_sensor']\n",
    "document_store = utils.build_document_store(traces_to_process)\n",
    "\n",
    "prompt_template = utils.read_prompt(constants.ONE_SHOT_TEMPLATES_DIR, 'electricity-one-shot-template.txt')\n",
    "\n",
    "question = 'State the IDs of all conversion factors that have electricity as source of the emission. Electricity is represented as Q12725. Do not include conversion factors from the example.'\n",
    "\n",
    "utils.build_pipeline(document_store, prompt_template, question)"
   ]
  }
 ],
 "metadata": {
  "kernelspec": {
   "display_name": "Python 3",
   "language": "python",
   "name": "python3"
  },
  "language_info": {
   "codemirror_mode": {
    "name": "ipython",
    "version": 3
   },
   "file_extension": ".py",
   "mimetype": "text/x-python",
   "name": "python",
   "nbconvert_exporter": "python",
   "pygments_lexer": "ipython3",
   "version": "3.9.6"
  }
 },
 "nbformat": 4,
 "nbformat_minor": 2
}
