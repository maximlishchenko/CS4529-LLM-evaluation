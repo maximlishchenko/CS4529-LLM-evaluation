{
 "cells": [
  {
   "cell_type": "markdown",
   "metadata": {},
   "source": [
    "# Task 2.1a\n",
    "\n",
    "Prompt type: one-shot\n",
    "\n",
    "Task: state final emission score\n",
    "\n",
    "Given as example: smli_trace1_valid\n",
    "\n",
    "Given as task: smli_trace2_valid\n",
    "\n",
    "Expect to see in response:\n",
    "1. 2.34\n",
    "\n",
    "Quantified as: 1"
   ]
  },
  {
   "cell_type": "code",
   "execution_count": 2,
   "metadata": {},
   "outputs": [],
   "source": [
    "# import the required utility functions\n",
    "\n",
    "import sys\n",
    "sys.path.append('../..')\n",
    "from utils import utils, constants"
   ]
  },
  {
   "cell_type": "code",
   "execution_count": 3,
   "metadata": {},
   "outputs": [
    {
     "name": "stderr",
     "output_type": "stream",
     "text": [
      "Ranking by BM25...: 100%|██████████| 1/1 [00:00<00:00, 93.25 docs/s]\n"
     ]
    },
    {
     "name": "stdout",
     "output_type": "stream",
     "text": [
      "['2.34']\n"
     ]
    }
   ],
   "source": [
    "traces_to_process = ['smli_trace2_valid']\n",
    "document_store = utils.build_document_store(traces_to_process)\n",
    "\n",
    "prompt_template = utils.read_prompt(constants.ONE_SHOT_TEMPLATES_DIR, 'state-final-emission-score-one-shot-template.txt')\n",
    "\n",
    "question = 'What is the final emission score?'\n",
    "\n",
    "utils.build_pipeline(document_store, prompt_template, question)"
   ]
  },
  {
   "cell_type": "markdown",
   "metadata": {},
   "source": [
    "# Task 2.1b\n",
    "\n",
    "Prompt type: one-shot\n",
    "\n",
    "Task: state final emission score\n",
    "\n",
    "Given as example: smli_trace1_valid\n",
    "\n",
    "Given as task: pesticides_trace_valid\n",
    "\n",
    "Expect to see in response:\n",
    "1. 0.0513\n",
    "\n",
    "Quantified as: 1"
   ]
  },
  {
   "cell_type": "code",
   "execution_count": 4,
   "metadata": {},
   "outputs": [
    {
     "name": "stderr",
     "output_type": "stream",
     "text": [
      "Ranking by BM25...: 100%|██████████| 1/1 [00:00<00:00, 280.50 docs/s]\n"
     ]
    },
    {
     "name": "stdout",
     "output_type": "stream",
     "text": [
      "['The final emission score is 0.0513.']\n"
     ]
    }
   ],
   "source": [
    "traces_to_process = ['pesticides_trace_valid']\n",
    "document_store = utils.build_document_store(traces_to_process)\n",
    "\n",
    "prompt_template = utils.read_prompt(constants.ONE_SHOT_TEMPLATES_DIR, 'state-final-emission-score-one-shot-template.txt')\n",
    "\n",
    "question = 'What is the final emission score?'\n",
    "\n",
    "utils.build_pipeline(document_store, prompt_template, question)"
   ]
  },
  {
   "cell_type": "markdown",
   "metadata": {},
   "source": [
    "# Task 2.1c\n",
    "\n",
    "Prompt type: one-shot\n",
    "\n",
    "Task: state final emission score\n",
    "\n",
    "Given as example: smli_trace1_valid\n",
    "\n",
    "Given as task: fleet_vehicles_trace_fuel_price\n",
    "\n",
    "Expect to see in response:\n",
    "1. 315.075\n",
    "\n",
    "Quantified as: 1"
   ]
  },
  {
   "cell_type": "code",
   "execution_count": 5,
   "metadata": {},
   "outputs": [
    {
     "name": "stderr",
     "output_type": "stream",
     "text": [
      "Ranking by BM25...: 100%|██████████| 1/1 [00:00<00:00, 418.59 docs/s]\n"
     ]
    },
    {
     "name": "stdout",
     "output_type": "stream",
     "text": [
      "['315.075']\n"
     ]
    }
   ],
   "source": [
    "traces_to_process = ['fleet_vehicles_trace_fuel_price']\n",
    "document_store = utils.build_document_store(traces_to_process)\n",
    "\n",
    "prompt_template = utils.read_prompt(constants.ONE_SHOT_TEMPLATES_DIR, 'state-final-emission-score-one-shot-template.txt')\n",
    "\n",
    "question = 'What is the final emission score?'\n",
    "\n",
    "utils.build_pipeline(document_store, prompt_template, question)"
   ]
  }
 ],
 "metadata": {
  "kernelspec": {
   "display_name": "Python 3",
   "language": "python",
   "name": "python3"
  },
  "language_info": {
   "codemirror_mode": {
    "name": "ipython",
    "version": 3
   },
   "file_extension": ".py",
   "mimetype": "text/x-python",
   "name": "python",
   "nbconvert_exporter": "python",
   "pygments_lexer": "ipython3",
   "version": "3.9.6"
  }
 },
 "nbformat": 4,
 "nbformat_minor": 2
}
