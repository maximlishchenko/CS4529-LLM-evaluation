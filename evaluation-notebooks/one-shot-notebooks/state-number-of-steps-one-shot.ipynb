{
 "cells": [
  {
   "cell_type": "markdown",
   "metadata": {},
   "source": [
    "# Task 2.6a\n",
    "\n",
    "Prompt type: one-shot\n",
    "\n",
    "Task: for a trace, state the number of calculations (steps) that was performed to get to the final emission score.\n",
    "\n",
    "Given as example: tractor_nitrogen_trace\n",
    "\n",
    "Given as task: smli_trace3_def\n",
    "\n",
    "Expect to see in response:\n",
    "\n",
    "1. 2 (two)\n",
    "\n",
    "Quantified as: 0"
   ]
  },
  {
   "cell_type": "code",
   "execution_count": 2,
   "metadata": {},
   "outputs": [],
   "source": [
    "# import the required utility functions\n",
    "\n",
    "import sys\n",
    "sys.path.append('../..')\n",
    "from utils import utils, constants"
   ]
  },
  {
   "cell_type": "code",
   "execution_count": 7,
   "metadata": {},
   "outputs": [
    {
     "name": "stderr",
     "output_type": "stream",
     "text": [
      "Ranking by BM25...: 100%|██████████| 1/1 [00:00<00:00, 614.55 docs/s]"
     ]
    },
    {
     "name": "stderr",
     "output_type": "stream",
     "text": [
      "\n"
     ]
    },
    {
     "name": "stdout",
     "output_type": "stream",
     "text": [
      "['4 calculations (steps) were performed to get to the final emission score.']\n"
     ]
    }
   ],
   "source": [
    "traces_to_process = ['smli_trace3_def']\n",
    "document_store = utils.build_document_store(traces_to_process)\n",
    "\n",
    "prompt_template = utils.read_prompt(constants.ONE_SHOT_TEMPLATES_DIR, 'state-number-of-steps-one-shot-template.txt')\n",
    "\n",
    "question = 'State the number of calculations (steps) that was performed to get to the final emission score.'\n",
    "\n",
    "utils.build_pipeline(document_store, prompt_template, question)"
   ]
  },
  {
   "cell_type": "markdown",
   "metadata": {},
   "source": [
    "# Task 2.6b\n",
    "\n",
    "Prompt type: one-shot\n",
    "\n",
    "Task: for a trace, state the number of calculations (steps) that was performed to get to the final emission score.\n",
    "\n",
    "Given as example: tractor_nitrogen_trace\n",
    "\n",
    "Given as task: rig_fertiliser_trace\n",
    "\n",
    "Expect to see in response:\n",
    "\n",
    "1. 5 (five)\n",
    "\n",
    "Quantified as: 1"
   ]
  },
  {
   "cell_type": "code",
   "execution_count": 9,
   "metadata": {},
   "outputs": [
    {
     "name": "stderr",
     "output_type": "stream",
     "text": [
      "Ranking by BM25...: 100%|██████████| 1/1 [00:00<00:00, 455.56 docs/s]"
     ]
    },
    {
     "name": "stderr",
     "output_type": "stream",
     "text": [
      "\n"
     ]
    },
    {
     "name": "stdout",
     "output_type": "stream",
     "text": [
      "['5 steps.']\n"
     ]
    }
   ],
   "source": [
    "traces_to_process = ['rig_fertiliser_trace']\n",
    "document_store = utils.build_document_store(traces_to_process)\n",
    "\n",
    "prompt_template = utils.read_prompt(constants.ONE_SHOT_TEMPLATES_DIR, 'state-number-of-steps-one-shot-template.txt')\n",
    "\n",
    "question = 'State the number of calculations (steps) that was performed to get to the final emission score.'\n",
    "\n",
    "utils.build_pipeline(document_store, prompt_template, question)"
   ]
  },
  {
   "cell_type": "markdown",
   "metadata": {},
   "source": [
    "# Task 2.6c\n",
    "\n",
    "Prompt type: one-shot\n",
    "\n",
    "Task: for a trace, state the number of calculations (steps) that was performed to get to the final emission score.\n",
    "\n",
    "Given as example: tractor_nitrogen_trace\n",
    "\n",
    "Given as task: pesticides_trace_valid\n",
    "\n",
    "Expect to see in response:\n",
    "\n",
    "1. 4 (four)\n",
    "\n",
    "Quantified as: 0"
   ]
  },
  {
   "cell_type": "code",
   "execution_count": 12,
   "metadata": {},
   "outputs": [
    {
     "name": "stderr",
     "output_type": "stream",
     "text": [
      "Ranking by BM25...: 100%|██████████| 1/1 [00:00<00:00, 324.13 docs/s]"
     ]
    },
    {
     "name": "stderr",
     "output_type": "stream",
     "text": [
      "\n"
     ]
    },
    {
     "name": "stdout",
     "output_type": "stream",
     "text": [
      "['3 calculations were performed to get to the final emission score.']\n"
     ]
    }
   ],
   "source": [
    "traces_to_process = ['pesticides_trace_valid']\n",
    "document_store = utils.build_document_store(traces_to_process)\n",
    "\n",
    "prompt_template = utils.read_prompt(constants.ONE_SHOT_TEMPLATES_DIR, 'state-number-of-steps-one-shot-template.txt')\n",
    "\n",
    "question = 'State the number of calculations (steps) that was performed to get to the final emission score.'\n",
    "\n",
    "utils.build_pipeline(document_store, prompt_template, question)"
   ]
  }
 ],
 "metadata": {
  "kernelspec": {
   "display_name": "Python 3",
   "language": "python",
   "name": "python3"
  },
  "language_info": {
   "codemirror_mode": {
    "name": "ipython",
    "version": 3
   },
   "file_extension": ".py",
   "mimetype": "text/x-python",
   "name": "python",
   "nbconvert_exporter": "python",
   "pygments_lexer": "ipython3",
   "version": "3.9.6"
  }
 },
 "nbformat": 4,
 "nbformat_minor": 2
}
