{
 "cells": [
  {
   "cell_type": "markdown",
   "metadata": {},
   "source": [
    "# Task 3.3a\n",
    "\n",
    "Prompt type: chain-of-thought\n",
    "\n",
    "Task: state the IDs of all conversion factors of scope 2 present in the traces\n",
    "\n",
    "Given as example: smli_trace1_valid, fleet_vehicles_trace_sensor\n",
    "\n",
    "Given chain-of-thought process: A conversion factor is represented as https://w3id.org/ecfo#EmissionConversionFactor.\n",
    "There are the following entities with this type present in the traces:\n",
    "https://w3id.org/ecfkg/i/mlco2/azure/centralindia/cf\n",
    "https://fleetvehicles.com/provenance/cf\n",
    "We are interested in the scope of these conversion factors. Scope is stored in \"hasScope\" field.\n",
    "https://w3id.org/ecfkg/i/mlco2/azure/centralindia/cf has scope \"ecfo:Scope2\".\n",
    "https://fleetvehicles.com/provenance/cf has scope \"ecfo:Scope1\".\n",
    "We are interested in conversion factors with scope 2. Hence, the answer is https://w3id.org/ecfkg/i/mlco2/azure/centralindia/cf\n",
    "\n",
    "Given as task: water_trace_valid, calcium_chloride_trace_valid\n",
    "\n",
    "Expect to see in response:\n",
    "\n",
    "1. https://cacl2.com/provenance/cf\n",
    "\n",
    "Quantified as: 1"
   ]
  },
  {
   "cell_type": "code",
   "execution_count": 2,
   "metadata": {},
   "outputs": [],
   "source": [
    "# import the required utility functions\n",
    "\n",
    "import sys\n",
    "sys.path.append('../..')\n",
    "from utils import utils, constants"
   ]
  },
  {
   "cell_type": "code",
   "execution_count": 3,
   "metadata": {},
   "outputs": [
    {
     "name": "stderr",
     "output_type": "stream",
     "text": [
      "Ranking by BM25...: 100%|██████████| 2/2 [00:00<00:00, 708.20 docs/s]\n"
     ]
    },
    {
     "name": "stdout",
     "output_type": "stream",
     "text": [
      "['https://cacl2.com/provenance/cf']\n"
     ]
    }
   ],
   "source": [
    "traces_to_process = ['water_trace_valid', 'calcium_chloride_trace_valid']\n",
    "document_store = utils.build_document_store(traces_to_process)\n",
    "\n",
    "prompt_template = utils.read_prompt(constants.CHAIN_OF_THOUGHT_TEMPLATES_DIR, 'find-cf-chain-of-thought-template.txt')\n",
    "\n",
    "question = 'State the IDs of all conversion factors of scope 2 present in the traces. Do not include conversion factors from the example.'\n",
    "\n",
    "utils.build_pipeline(document_store, prompt_template, question)"
   ]
  },
  {
   "cell_type": "markdown",
   "metadata": {},
   "source": [
    "# Task 3.3b\n",
    "\n",
    "Prompt type: chain-of-thought\n",
    "\n",
    "Task: state the IDs of all conversion factors of scope 2 present in the traces\n",
    "\n",
    "Given as example: smli_trace1_valid, fleet_vehicles_trace_sensor\n",
    "\n",
    "Given chain-of-thought process: A conversion factor is represented as https://w3id.org/ecfo#EmissionConversionFactor.\n",
    "There are the following entities with this type present in the traces:\n",
    "https://w3id.org/ecfkg/i/mlco2/azure/centralindia/cf\n",
    "https://fleetvehicles.com/provenance/cf\n",
    "We are interested in the scope of these conversion factors. Scope is stored in \"hasScope\" field.\n",
    "https://w3id.org/ecfkg/i/mlco2/azure/centralindia/cf has scope \"ecfo:Scope2\".\n",
    "https://fleetvehicles.com/provenance/cf has scope \"ecfo:Scope1\".\n",
    "We are interested in conversion factors with scope 2. Hence, the answer is https://w3id.org/ecfkg/i/mlco2/azure/centralindia/cf\n",
    "\n",
    "Given as task: tractor_nitrogen_trace, fleet_vehicles_trace_fuel_price\n",
    "\n",
    "Expect to see in response:\n",
    "\n",
    "1. https://tractornitrogen.com/provenance/nitrogen-cf\n",
    "\n",
    "Quantified as: 0"
   ]
  },
  {
   "cell_type": "code",
   "execution_count": 4,
   "metadata": {},
   "outputs": [
    {
     "name": "stderr",
     "output_type": "stream",
     "text": [
      "Ranking by BM25...: 100%|██████████| 2/2 [00:00<00:00, 561.64 docs/s]\n"
     ]
    },
    {
     "name": "stdout",
     "output_type": "stream",
     "text": [
      "['There are no conversion factors of scope 2 present in the given traces other than the ones already used in the example.']\n"
     ]
    }
   ],
   "source": [
    "traces_to_process = ['tractor_nitrogen_trace', 'fleet_vehicles_trace_fuel_price']\n",
    "document_store = utils.build_document_store(traces_to_process)\n",
    "\n",
    "prompt_template = utils.read_prompt(constants.CHAIN_OF_THOUGHT_TEMPLATES_DIR, 'find-cf-chain-of-thought-template.txt')\n",
    "\n",
    "question = 'State the IDs of all conversion factors of scope 2 present in the traces. Do not include conversion factors from the example.'\n",
    "\n",
    "utils.build_pipeline(document_store, prompt_template, question)"
   ]
  },
  {
   "cell_type": "markdown",
   "metadata": {},
   "source": [
    "# Task 3.3c\n",
    "\n",
    "Prompt type: chain-of-thought\n",
    "\n",
    "Task: state the IDs of all conversion factors of scope 2 present in the traces\n",
    "\n",
    "Given as example: smli_trace1_valid, fleet_vehicles_trace_sensor\n",
    "\n",
    "Given chain-of-thought process: A conversion factor is represented as https://w3id.org/ecfo#EmissionConversionFactor.\n",
    "There are the following entities with this type present in the traces:\n",
    "https://w3id.org/ecfkg/i/mlco2/azure/centralindia/cf\n",
    "https://fleetvehicles.com/provenance/cf\n",
    "We are interested in the scope of these conversion factors. Scope is stored in \"hasScope\" field.\n",
    "https://w3id.org/ecfkg/i/mlco2/azure/centralindia/cf has scope \"ecfo:Scope2\".\n",
    "https://fleetvehicles.com/provenance/cf has scope \"ecfo:Scope1\".\n",
    "We are interested in conversion factors with scope 2. Hence, the answer is https://w3id.org/ecfkg/i/mlco2/azure/centralindia/cf\n",
    "\n",
    "Given as task: pesticides_trace_valid, water_trace_valid\n",
    "\n",
    "Expect to see in response:\n",
    "\n",
    "1. No conversion factors of scope 2 were found\n",
    "\n",
    "Quantified as: 1"
   ]
  },
  {
   "cell_type": "code",
   "execution_count": 6,
   "metadata": {},
   "outputs": [
    {
     "name": "stderr",
     "output_type": "stream",
     "text": [
      "Ranking by BM25...: 100%|██████████| 2/2 [00:00<00:00, 712.23 docs/s]"
     ]
    },
    {
     "name": "stderr",
     "output_type": "stream",
     "text": [
      "\n"
     ]
    },
    {
     "name": "stdout",
     "output_type": "stream",
     "text": [
      "['There are no conversion factors with scope 2 present in the provided traces other than the ones from the example.']\n"
     ]
    }
   ],
   "source": [
    "traces_to_process = ['pesticides_trace_valid', 'water_trace_valid']\n",
    "document_store = utils.build_document_store(traces_to_process)\n",
    "\n",
    "prompt_template = utils.read_prompt(constants.CHAIN_OF_THOUGHT_TEMPLATES_DIR, 'find-cf-chain-of-thought-template.txt')\n",
    "\n",
    "question = 'State the IDs of all conversion factors of scope 2 present in the traces. Do not include conversion factors from the example.'\n",
    "\n",
    "utils.build_pipeline(document_store, prompt_template, question)"
   ]
  }
 ],
 "metadata": {
  "kernelspec": {
   "display_name": "Python 3",
   "language": "python",
   "name": "python3"
  },
  "language_info": {
   "codemirror_mode": {
    "name": "ipython",
    "version": 3
   },
   "file_extension": ".py",
   "mimetype": "text/x-python",
   "name": "python",
   "nbconvert_exporter": "python",
   "pygments_lexer": "ipython3",
   "version": "3.9.6"
  }
 },
 "nbformat": 4,
 "nbformat_minor": 2
}
