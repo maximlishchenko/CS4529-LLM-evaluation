{
 "cells": [
  {
   "cell_type": "markdown",
   "metadata": {},
   "source": [
    "# Task 3.4a\n",
    "\n",
    "Prompt type: chain-of-thought\n",
    "\n",
    "Task: state the IDs of all conversion factors that have electricity as source of the emission\n",
    "\n",
    "Given as example: smli_trace1_valid, water_trace_valid\n",
    "\n",
    "Given chain-of-thought process: A conversion factor is represented as https://w3id.org/ecfo#EmissionConversionFactor.\n",
    "There are the following conversion factors in the traces:\n",
    "https://w3id.org/ecfkg/i/mlco2/azure/centralindia/cf\n",
    "https://water.com/provenance/cf\n",
    "We are interested in the emission source of the conversion factors. This is stored in \"hasEmissionSource\" field.\n",
    "We are looking for factors that have electricity as source of the emission. Electricity is represented as Q12725.\n",
    "https://w3id.org/ecfkg/i/mlco2/azure/centralindia/cf has an emission source with value http://www.wikidata.org/entity/Q12725.\n",
    "https://water.com/provenance/cf has an emission source with value https://www.wikidata.org/wiki/Q1061108.\n",
    "https://w3id.org/ecfkg/i/mlco2/azure/centralindia/cf has electricity as source of the emission, whereas\n",
    "https://water.com/provenance/cf does not.\n",
    "Hence, the answer is https://w3id.org/ecfkg/i/mlco2/azure/centralindia/cf\n",
    "\n",
    "Given as task: smli_trace3_smart_meter, tractor_nitrogen_trace\n",
    "\n",
    "Expect to see in response:\n",
    "\n",
    "1. https://w3id.org/ecfkg/i/mlco2/aws/cn-north-1/cf\n",
    "\n",
    "Quantified as: 1"
   ]
  },
  {
   "cell_type": "code",
   "execution_count": 2,
   "metadata": {},
   "outputs": [],
   "source": [
    "# import the required utility functions\n",
    "\n",
    "import sys\n",
    "sys.path.append('../..')\n",
    "from utils import utils, constants"
   ]
  },
  {
   "cell_type": "code",
   "execution_count": 9,
   "metadata": {},
   "outputs": [
    {
     "name": "stderr",
     "output_type": "stream",
     "text": [
      "Ranking by BM25...: 100%|██████████| 2/2 [00:00<00:00, 436.47 docs/s]\n"
     ]
    },
    {
     "name": "stdout",
     "output_type": "stream",
     "text": [
      "['There is only one conversion factor with electricity as the source of the emission in the provided traces:\\n- https://w3id.org/ecfkg/i/mlco2/aws/cn-north-1/cf']\n"
     ]
    }
   ],
   "source": [
    "traces_to_process = ['smli_trace3_smart_meter', 'tractor_nitrogen_trace']\n",
    "document_store = utils.build_document_store(traces_to_process)\n",
    "\n",
    "prompt_template = utils.read_prompt(constants.CHAIN_OF_THOUGHT_TEMPLATES_DIR, 'electricity-chain-of-thought-template.txt')\n",
    "\n",
    "question = 'State the IDs of all conversion factors that have electricity as source of the emission. Electricity is represented as Q12725. Do not include conversion factors from the example.'\n",
    "\n",
    "utils.build_pipeline(document_store, prompt_template, question)"
   ]
  },
  {
   "cell_type": "markdown",
   "metadata": {},
   "source": [
    "# Task 3.4b\n",
    "\n",
    "Prompt type: chain-of-thought\n",
    "\n",
    "Task: state the IDs of all conversion factors that have electricity as source of the emission\n",
    "\n",
    "Given as example: smli_trace1_valid, water_trace_valid\n",
    "\n",
    "Given chain-of-thought process: A conversion factor is represented as https://w3id.org/ecfo#EmissionConversionFactor.\n",
    "There are the following conversion factors in the traces:\n",
    "https://w3id.org/ecfkg/i/mlco2/azure/centralindia/cf\n",
    "https://water.com/provenance/cf\n",
    "We are interested in the emission source of the conversion factors. This is stored in \"hasEmissionSource\" field.\n",
    "We are looking for factors that have electricity as source of the emission. Electricity is represented as Q12725.\n",
    "https://w3id.org/ecfkg/i/mlco2/azure/centralindia/cf has an emission source with value http://www.wikidata.org/entity/Q12725.\n",
    "https://water.com/provenance/cf has an emission source with value https://www.wikidata.org/wiki/Q1061108.\n",
    "https://w3id.org/ecfkg/i/mlco2/azure/centralindia/cf has electricity as source of the emission, whereas\n",
    "https://water.com/provenance/cf does not.\n",
    "Hence, the answer is https://w3id.org/ecfkg/i/mlco2/azure/centralindia/cf\n",
    "\n",
    "Given as task: rig_fertiliser_trace, fleet_vehicles_trace_sensor\n",
    "\n",
    "Expect to see in response:\n",
    "\n",
    "1. https://rigfertiliser.com/provenance/cf1\n",
    "\n",
    "Quantified as: 0"
   ]
  },
  {
   "cell_type": "code",
   "execution_count": 13,
   "metadata": {},
   "outputs": [
    {
     "name": "stderr",
     "output_type": "stream",
     "text": [
      "Ranking by BM25...: 100%|██████████| 2/2 [00:00<00:00, 538.49 docs/s]"
     ]
    },
    {
     "name": "stderr",
     "output_type": "stream",
     "text": [
      "\n"
     ]
    },
    {
     "name": "stdout",
     "output_type": "stream",
     "text": [
      "['There are no conversion factors that have electricity as the source of the emission in the provided traces.']\n"
     ]
    }
   ],
   "source": [
    "traces_to_process = ['rig_fertiliser_trace', 'fleet_vehicles_trace_sensor']\n",
    "document_store = utils.build_document_store(traces_to_process)\n",
    "\n",
    "prompt_template = utils.read_prompt(constants.CHAIN_OF_THOUGHT_TEMPLATES_DIR, 'electricity-chain-of-thought-template.txt')\n",
    "\n",
    "question = 'State the IDs of all conversion factors that have electricity as source of the emission. Electricity is represented as Q12725. Do not include conversion factors from the example.'\n",
    "\n",
    "utils.build_pipeline(document_store, prompt_template, question)"
   ]
  }
 ],
 "metadata": {
  "kernelspec": {
   "display_name": "Python 3",
   "language": "python",
   "name": "python3"
  },
  "language_info": {
   "codemirror_mode": {
    "name": "ipython",
    "version": 3
   },
   "file_extension": ".py",
   "mimetype": "text/x-python",
   "name": "python",
   "nbconvert_exporter": "python",
   "pygments_lexer": "ipython3",
   "version": "3.9.6"
  }
 },
 "nbformat": 4,
 "nbformat_minor": 2
}
