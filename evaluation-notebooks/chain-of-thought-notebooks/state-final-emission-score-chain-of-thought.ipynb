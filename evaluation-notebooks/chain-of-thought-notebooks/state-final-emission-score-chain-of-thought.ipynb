{
 "cells": [
  {
   "cell_type": "markdown",
   "metadata": {},
   "source": [
    "# Task 3.1a\n",
    "\n",
    "Prompt type: chain-of-thought\n",
    "\n",
    "Task: state final emission score\n",
    "\n",
    "Given as example: smli_trace1_valid\n",
    "\n",
    "Given as task: smli_trace2_valid\n",
    "\n",
    "Expect to see in response:\n",
    "1. 2.34\n",
    "\n",
    "Quantified as: 1"
   ]
  },
  {
   "cell_type": "code",
   "execution_count": 2,
   "metadata": {},
   "outputs": [],
   "source": [
    "# import the required utility functions\n",
    "\n",
    "import sys\n",
    "sys.path.append('../..')\n",
    "from utils import utils, constants"
   ]
  },
  {
   "cell_type": "code",
   "execution_count": 3,
   "metadata": {},
   "outputs": [
    {
     "name": "stderr",
     "output_type": "stream",
     "text": [
      "Ranking by BM25...: 100%|██████████| 1/1 [00:00<00:00, 411.21 docs/s]\n"
     ]
    },
    {
     "name": "stdout",
     "output_type": "stream",
     "text": [
      "['The final emission score is 2.34.']\n"
     ]
    }
   ],
   "source": [
    "traces_to_process = ['smli_trace2_valid']\n",
    "document_store = utils.build_document_store(traces_to_process)\n",
    "\n",
    "prompt_template = utils.read_prompt(constants.CHAIN_OF_THOUGHT_TEMPLATES_DIR, 'state-final-emission-score-chain-of-thought-template.txt')\n",
    "\n",
    "question = 'What is the final emission score?'\n",
    "\n",
    "utils.build_pipeline(document_store, prompt_template, question)"
   ]
  },
  {
   "cell_type": "markdown",
   "metadata": {},
   "source": [
    "# Task 3.1b\n",
    "\n",
    "Prompt type: chain-of-thought\n",
    "\n",
    "Task: state final emission score\n",
    "\n",
    "Given as example: smli_trace1_valid\n",
    "\n",
    "Given as task: pesticides_trace_valid\n",
    "\n",
    "Expect to see in response:\n",
    "1. 0.0513\n",
    "\n",
    "Quantified as: 1"
   ]
  },
  {
   "cell_type": "code",
   "execution_count": 4,
   "metadata": {},
   "outputs": [
    {
     "name": "stderr",
     "output_type": "stream",
     "text": [
      "Ranking by BM25...: 100%|██████████| 1/1 [00:00<00:00, 650.99 docs/s]\n"
     ]
    },
    {
     "name": "stdout",
     "output_type": "stream",
     "text": [
      "['The final emission score is 0.0513.']\n"
     ]
    }
   ],
   "source": [
    "traces_to_process = ['pesticides_trace_valid']\n",
    "document_store = utils.build_document_store(traces_to_process)\n",
    "\n",
    "prompt_template = utils.read_prompt(constants.CHAIN_OF_THOUGHT_TEMPLATES_DIR, 'state-final-emission-score-chain-of-thought-template.txt')\n",
    "\n",
    "question = 'What is the final emission score?'\n",
    "\n",
    "utils.build_pipeline(document_store, prompt_template, question)"
   ]
  },
  {
   "cell_type": "markdown",
   "metadata": {},
   "source": [
    "# Task 3.1c\n",
    "\n",
    "Prompt type: chain-of-thought\n",
    "\n",
    "Task: state final emission score\n",
    "\n",
    "Given as example: smli_trace1_valid\n",
    "\n",
    "Given as task: fleet_vehicles_trace_fuel_price\n",
    "\n",
    "Expect to see in response:\n",
    "1. 315.075\n",
    "\n",
    "Quantified as: 1"
   ]
  },
  {
   "cell_type": "code",
   "execution_count": 5,
   "metadata": {},
   "outputs": [
    {
     "name": "stderr",
     "output_type": "stream",
     "text": [
      "Ranking by BM25...: 100%|██████████| 1/1 [00:00<00:00, 521.10 docs/s]\n"
     ]
    },
    {
     "name": "stdout",
     "output_type": "stream",
     "text": [
      "['315.075']\n"
     ]
    }
   ],
   "source": [
    "traces_to_process = ['fleet_vehicles_trace_fuel_price']\n",
    "document_store = utils.build_document_store(traces_to_process)\n",
    "\n",
    "prompt_template = utils.read_prompt(constants.CHAIN_OF_THOUGHT_TEMPLATES_DIR, 'state-final-emission-score-chain-of-thought-template.txt')\n",
    "\n",
    "question = 'What is the final emission score?'\n",
    "\n",
    "utils.build_pipeline(document_store, prompt_template, question)"
   ]
  }
 ],
 "metadata": {
  "kernelspec": {
   "display_name": "Python 3",
   "language": "python",
   "name": "python3"
  },
  "language_info": {
   "codemirror_mode": {
    "name": "ipython",
    "version": 3
   },
   "file_extension": ".py",
   "mimetype": "text/x-python",
   "name": "python",
   "nbconvert_exporter": "python",
   "pygments_lexer": "ipython3",
   "version": "3.9.6"
  }
 },
 "nbformat": 4,
 "nbformat_minor": 2
}
