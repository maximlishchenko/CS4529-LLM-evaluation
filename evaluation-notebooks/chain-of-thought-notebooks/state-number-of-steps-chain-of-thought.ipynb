{
 "cells": [
  {
   "cell_type": "markdown",
   "metadata": {},
   "source": [
    "# Task 3.6a\n",
    "\n",
    "Prompt type: chain-of-thought\n",
    "\n",
    "Task: for a trace, state the number of calculations (steps) that was performed to get to the final emission score.\n",
    "\n",
    "Given as example: tractor_nitrogen_trace\n",
    "\n",
    "Given chain-of-thought process: A calculation step is an EmissionCalculationActivity which is represented as \n",
    "\"https://w3id.org/peco#EmissionCalculationActivity\"\n",
    "By looking at the trace, we can see that there are 5 entities with such type in the trace.\n",
    "Hence, the answer is five.\n",
    "\n",
    "Given as task: smli_trace3_def\n",
    "\n",
    "Expect to see in response:\n",
    "\n",
    "1. 2 (two)\n",
    "\n",
    "Quantified as: 1"
   ]
  },
  {
   "cell_type": "code",
   "execution_count": 2,
   "metadata": {},
   "outputs": [],
   "source": [
    "# import the required utility functions\n",
    "\n",
    "import sys\n",
    "sys.path.append('../..')\n",
    "from utils import utils, constants"
   ]
  },
  {
   "cell_type": "code",
   "execution_count": 3,
   "metadata": {},
   "outputs": [
    {
     "name": "stderr",
     "output_type": "stream",
     "text": [
      "Ranking by BM25...: 100%|██████████| 1/1 [00:00<00:00, 257.81 docs/s]\n"
     ]
    },
    {
     "name": "stdout",
     "output_type": "stream",
     "text": [
      "['There are 2 calculation steps performed to get to the final emission score in the given provenance trace.']\n"
     ]
    }
   ],
   "source": [
    "traces_to_process = ['smli_trace3_def']\n",
    "document_store = utils.build_document_store(traces_to_process)\n",
    "\n",
    "prompt_template = utils.read_prompt(constants.CHAIN_OF_THOUGHT_TEMPLATES_DIR, 'state-number-of-steps-chain-of-thought-template.txt')\n",
    "\n",
    "question = 'State the number of calculations (steps) that was performed to get to the final emission score.'\n",
    "\n",
    "utils.build_pipeline(document_store, prompt_template, question)"
   ]
  },
  {
   "cell_type": "markdown",
   "metadata": {},
   "source": [
    "# Task 3.6b\n",
    "\n",
    "Prompt type: chain-of-thought\n",
    "\n",
    "Task: for a trace, state the number of calculations (steps) that was performed to get to the final emission score.\n",
    "\n",
    "Given as example: tractor_nitrogen_trace\n",
    "\n",
    "Given chain-of-thought process: A calculation step is an EmissionCalculationActivity which is represented as \n",
    "\"https://w3id.org/peco#EmissionCalculationActivity\"\n",
    "By looking at the trace, we can see that there are 5 entities with such type in the trace.\n",
    "Hence, the answer is five.\n",
    "\n",
    "Given as task: rig_fertiliser_trace\n",
    "\n",
    "Expect to see in response:\n",
    "\n",
    "1. 5 (five)\n",
    "\n",
    "Quantified as: 0"
   ]
  },
  {
   "cell_type": "code",
   "execution_count": 19,
   "metadata": {},
   "outputs": [
    {
     "name": "stderr",
     "output_type": "stream",
     "text": [
      "Ranking by BM25...: 100%|██████████| 1/1 [00:00<00:00, 255.22 docs/s]"
     ]
    },
    {
     "name": "stderr",
     "output_type": "stream",
     "text": [
      "\n"
     ]
    },
    {
     "name": "stdout",
     "output_type": "stream",
     "text": [
      "['There were 3 calculations (steps) performed to get to the final emission score.']\n"
     ]
    }
   ],
   "source": [
    "traces_to_process = ['rig_fertiliser_trace']\n",
    "document_store = utils.build_document_store(traces_to_process)\n",
    "\n",
    "prompt_template = utils.read_prompt(constants.CHAIN_OF_THOUGHT_TEMPLATES_DIR, 'state-number-of-steps-chain-of-thought-template.txt')\n",
    "\n",
    "question = 'State the number of calculations (steps) that was performed to get to the final emission score.'\n",
    "\n",
    "utils.build_pipeline(document_store, prompt_template, question)"
   ]
  },
  {
   "cell_type": "markdown",
   "metadata": {},
   "source": [
    "# Task 3.6c\n",
    "\n",
    "Prompt type: chain-of-thought\n",
    "\n",
    "Task: for a trace, state the number of calculations (steps) that was performed to get to the final emission score.\n",
    "\n",
    "Given as example: tractor_nitrogen_trace\n",
    "\n",
    "Given chain-of-thought process: A calculation step is an EmissionCalculationActivity which is represented as \n",
    "\"https://w3id.org/peco#EmissionCalculationActivity\"\n",
    "By looking at the trace, we can see that there are 5 entities with such type in the trace.\n",
    "Hence, the answer is five.\n",
    "\n",
    "Given as task: pesticides_trace_valid\n",
    "\n",
    "Expect to see in response:\n",
    "\n",
    "1. 4 (four)\n",
    "\n",
    "Quantified as: 0"
   ]
  },
  {
   "cell_type": "code",
   "execution_count": 20,
   "metadata": {},
   "outputs": [
    {
     "name": "stderr",
     "output_type": "stream",
     "text": [
      "Ranking by BM25...: 100%|██████████| 1/1 [00:00<00:00, 256.67 docs/s]"
     ]
    },
    {
     "name": "stderr",
     "output_type": "stream",
     "text": [
      "\n"
     ]
    },
    {
     "name": "stdout",
     "output_type": "stream",
     "text": [
      "['Three calculations (steps) were performed to get to the final emission score.']\n"
     ]
    }
   ],
   "source": [
    "traces_to_process = ['pesticides_trace_valid']\n",
    "document_store = utils.build_document_store(traces_to_process)\n",
    "\n",
    "prompt_template = utils.read_prompt(constants.CHAIN_OF_THOUGHT_TEMPLATES_DIR, 'state-number-of-steps-chain-of-thought-template.txt')\n",
    "\n",
    "question = 'State the number of calculations (steps) that was performed to get to the final emission score.'\n",
    "\n",
    "utils.build_pipeline(document_store, prompt_template, question)"
   ]
  }
 ],
 "metadata": {
  "kernelspec": {
   "display_name": "Python 3",
   "language": "python",
   "name": "python3"
  },
  "language_info": {
   "codemirror_mode": {
    "name": "ipython",
    "version": 3
   },
   "file_extension": ".py",
   "mimetype": "text/x-python",
   "name": "python",
   "nbconvert_exporter": "python",
   "pygments_lexer": "ipython3",
   "version": "3.9.6"
  }
 },
 "nbformat": 4,
 "nbformat_minor": 2
}
